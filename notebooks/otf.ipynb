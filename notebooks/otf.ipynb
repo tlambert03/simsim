{
 "cells": [
  {
   "cell_type": "code",
   "execution_count": 3,
   "metadata": {},
   "outputs": [],
   "source": [
    "from simsim.illum_pycuda import structillum_3d_tex, structillum_3d\n",
    "from psfmodels import vectorial_psf_centered as vpsf\n",
    "import mrc\n",
    "import numpy as np\n",
    "from skimage.transform import downscale_local_mean\n",
    "import tifffile as tf\n",
    "import matplotlib.pyplot as plt\n",
    "from matplotlib.colors import PowerNorm\n",
    "\n",
    "import subprocess"
   ]
  },
  {
   "cell_type": "code",
   "execution_count": 27,
   "metadata": {},
   "outputs": [
    {
     "name": "stdout",
     "output_type": "stream",
     "text": [
      "256\n",
      "65\n"
     ]
    }
   ],
   "source": [
    "out_dx = 0.08\n",
    "out_dz = 0.125\n",
    "out_nxy = 256\n",
    "upscale_xy = 1\n",
    "truth_nx = out_nxy * upscale_xy\n",
    "truth_nz = 65\n",
    "truth_dx = out_dx / upscale_xy\n",
    "truth_dz = out_dz\n",
    "nimm = 1.515\n",
    "NA = 1.42\n",
    "csthick = 0.170\n",
    "sample_ri = 1.515\n",
    "gratingDefocus = 0\n",
    "illum_contrast = 1\n",
    "exwave = 0.488\n",
    "emwave = 0.528\n",
    "angles = [0]\n",
    "linespacing = 0.2035\n",
    "nphases = 5\n",
    "\n",
    "print(truth_nx)\n",
    "print(truth_nz)"
   ]
  },
  {
   "cell_type": "code",
   "execution_count": 28,
   "metadata": {},
   "outputs": [
    {
     "name": "stdout",
     "output_type": "stream",
     "text": [
      "making psf..\n"
     ]
    }
   ],
   "source": [
    "trimz = -(truth_nz % 2 - 1)\n",
    "trimx = -(truth_nx % 2 - 1)\n",
    "psf_nz = truth_nz - trimz\n",
    "psf_nx = truth_nx - trimx\n",
    "\n",
    "print(\"making psf..\")\n",
    "_psf = vpsf(\n",
    "    nx=psf_nx,\n",
    "    nz=psf_nz,\n",
    "    dz=truth_dz,\n",
    "    dxy=truth_dx,\n",
    "    pz=0,\n",
    "    wvl=emwave,\n",
    "    params={\n",
    "        'NA': NA,\n",
    "        'tg': csthick,\n",
    "        'ni': 1.515,\n",
    "        'ns': sample_ri\n",
    "    }\n",
    ").astype('float32')\n",
    "\n",
    "_psf /= _psf.sum()\n",
    "_psf=np.pad(_psf, ((trimz,0),(trimx,0), (trimx,0)))\n",
    "\n",
    "# import microscPSF.microscPSF as mpsf\n",
    "# params = {\n",
    "#     \"M\": 100,  # magnification\n",
    "#     \"NA\": NA,  # numerical aperture\n",
    "#     \"ng0\": 1.515,  # coverslip RI design value\n",
    "#     \"ng\": 1.515,  # coverslip RI experimental value\n",
    "#     \"ni0\": 1.515,  # immersion medium RI design value\n",
    "#     \"ni\": nimm,  # immersion medium RI experimental value\n",
    "#     \"ns\": sample_ri,  # specimen refractive index (RI)\n",
    "#     \"ti0\": 190,  # microns, working distance (immersion medium thickness) design value\n",
    "#     \"tg\": csthick * 1000,  # microns, coverslip thickness experimental value\n",
    "#     \"tg0\": 170,  # microns, coverslip thickness design value\n",
    "#     \"zd0\": 200.0 * 1.0e3,  # microscope tube length (in microns).\n",
    "# }\n",
    "# zv = np.arange(-(psf_nz - 1) // 2, (psf_nz + 1) // 2) * psf_nz\n",
    "# _psf = mpsf.gLXYZFocalScan(\n",
    "#     params, truth_dx, psf_nx, zv, normalize=True, pz=0.0, wvl=emwave, zd=None\n",
    "# )\n",
    "\n",
    "_psf /= _psf.sum()"
   ]
  },
  {
   "cell_type": "code",
   "execution_count": 29,
   "metadata": {},
   "outputs": [
    {
     "name": "stdout",
     "output_type": "stream",
     "text": [
      "65 255\n",
      "psf shape:  (65, 256, 256)\n",
      "(32.00000897176489, 128.00003588705945, 128.00003588705954)\n"
     ]
    },
    {
     "data": {
      "image/png": "[encoded data removed]",
      "text/plain": [
       "<Figure size 864x432 with 2 Axes>"
      ]
     },
     "metadata": {
      "needs_background": "light"
     },
     "output_type": "display_data"
    }
   ],
   "source": [
    "from scipy.ndimage.measurements import center_of_mass\n",
    "fig, (a1, a2) = plt.subplots(1, 2, figsize=(12,6))\n",
    "center = np.s_[truth_nx//2 - 17:truth_nx//2 + 17]\n",
    "a1.imshow(_psf[truth_nz//2, center, center])\n",
    "a2.imshow(_psf[:,truth_nx//2], norm=PowerNorm(gamma=0.4))\n",
    "print(psf_nz, psf_nx)\n",
    "print(\"psf shape: \", _psf.shape)\n",
    "print(center_of_mass(_psf))"
   ]
  },
  {
   "cell_type": "code",
   "execution_count": 30,
   "metadata": {},
   "outputs": [
    {
     "name": "stdout",
     "output_type": "stream",
     "text": [
      "making illum\n",
      "p: 0, a: 0\n",
      "p: 1, a: 0\n",
      "p: 2, a: 0\n",
      "p: 3, a: 0\n",
      "p: 4, a: 0\n"
     ]
    }
   ],
   "source": [
    "print(\"making illum\")\n",
    "nxyillum = 1\n",
    "illum_shape = (truth_nz, nxyillum, nxyillum)\n",
    "illum = structillum_3d_tex(\n",
    "    illum_shape,\n",
    "    angles,\n",
    "    nphases,\n",
    "    linespacing=linespacing,\n",
    "    dx=truth_dx,\n",
    "    dz=truth_dz,\n",
    "    defocus=gratingDefocus,\n",
    "    NA=NA,\n",
    "    nimm=nimm,\n",
    "    wvl=exwave,\n",
    ")[0]\n",
    "illum = illum[:, :, nxyillum // 2, nxyillum // 2, np.newaxis, np.newaxis].get()"
   ]
  },
  {
   "cell_type": "code",
   "execution_count": 31,
   "metadata": {},
   "outputs": [],
   "source": [
    "out = illum * _psf[np.newaxis,:,:,:]\n",
    "out = np.transpose(out, (1, 0, 2, 3)).reshape((-1, truth_nx, truth_nx))"
   ]
  },
  {
   "cell_type": "code",
   "execution_count": 32,
   "metadata": {},
   "outputs": [
    {
     "name": "stdout",
     "output_type": "stream",
     "text": [
      "(325, 256, 256)\n"
     ]
    }
   ],
   "source": [
    "final = downscale_local_mean(out, (1, upscale_xy, upscale_xy))\n",
    "print(final.shape)\n",
    "psffile = \"/Users/talley/Desktop/ss/py_psf.dv\"\n",
    "mrc.imwrite(\n",
    "    psffile,\n",
    "    final.astype(np.float32),\n",
    "    metadata={\n",
    "        \"dxy\": out_dx,\n",
    "        \"dz\": out_dz,\n",
    "        \"wave0\": 1000 * emwave,\n",
    "        \"LensNum\": 10612,\n",
    "    }\n",
    ")"
   ]
  },
  {
   "cell_type": "code",
   "execution_count": 35,
   "metadata": {},
   "outputs": [
    {
     "name": "stdout",
     "output_type": "stream",
     "text": [
      "makeotf /Users/talley/Desktop/ss/py_psf.dv /Users/talley/Desktop/ss/py_psf_otf.dv -angle 0 -ls 0.2035 -na 1.4058 -nimm 1.515 -fixorigin 3 20 -leavekz 8 10 2\n"
     ]
    },
    {
     "data": {
      "image/png": "[encoded data removed]",
      "text/plain": [
       "<Figure size 936x936 with 6 Axes>"
      ]
     },
     "metadata": {
      "needs_background": "light"
     },
     "output_type": "display_data"
    }
   ],
   "source": [
    "otffile = psffile.replace(\".dv\", \"_otf.dv\")\n",
    "cmd = (f'makeotf {psffile} {otffile} -angle {angles[0]} -ls {linespacing}'\n",
    "       f' -na {NA*0.99} -nimm {nimm} -fixorigin 3 20 -leavekz 8 10 2')\n",
    "print(cmd)\n",
    "subprocess.check_call(cmd.split())\n",
    "im = mrc.bindFile(otffile)\n",
    "fig, axs = plt.subplots(2, 3, figsize=(13,13))\n",
    "axs[0, 0].imshow(np.abs(im[0]), norm=PowerNorm(gamma=0.1))\n",
    "axs[0, 1].imshow(np.abs(im[1]), norm=PowerNorm(gamma=0.1))\n",
    "axs[0, 2].imshow(np.abs(im[2]), norm=PowerNorm(gamma=0.1))\n",
    "axs[1, 0].imshow(np.angle(im[0]), vmin=-1, vmax=1)\n",
    "axs[1, 1].imshow(np.angle(im[1]), vmin=-1, vmax=1)\n",
    "_ = axs[1, 2].imshow(np.angle(im[2]), vmin=-1, vmax=1)"
   ]
  },
  {
   "cell_type": "code",
   "execution_count": null,
   "metadata": {},
   "outputs": [],
   "source": []
  }
 ],
 "metadata": {
  "kernelspec": {
   "display_name": "Python 3",
   "language": "python",
   "name": "python3"
  },
  "language_info": {
   "codemirror_mode": {
    "name": "ipython",
    "version": 3
   },
   "file_extension": ".py",
   "mimetype": "text/x-python",
   "name": "python",
   "nbconvert_exporter": "python",
   "pygments_lexer": "ipython3",
   "version": "3.7.3"
  }
 },
 "nbformat": 4,
 "nbformat_minor": 4
}
